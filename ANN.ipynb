{
  "nbformat": 4,
  "nbformat_minor": 0,
  "metadata": {
    "colab": {
      "provenance": [],
      "include_colab_link": true
    },
    "kernelspec": {
      "name": "python3",
      "display_name": "Python 3"
    },
    "language_info": {
      "name": "python"
    }
  },
  "cells": [
    {
      "cell_type": "markdown",
      "metadata": {
        "id": "view-in-github",
        "colab_type": "text"
      },
      "source": [
        "<a href=\"https://colab.research.google.com/github/rishikeshpawar1312/machine_learning/blob/main/ANN.ipynb\" target=\"_parent\"><img src=\"https://colab.research.google.com/assets/colab-badge.svg\" alt=\"Open In Colab\"/></a>"
      ]
    },
    {
      "cell_type": "markdown",
      "source": [
        "**Importing mnist and loading the datasets**"
      ],
      "metadata": {
        "id": "o6RFPMyZfxY0"
      }
    },
    {
      "cell_type": "code",
      "source": [
        "from keras.datasets import mnist\n",
        "(train_images, train_labels), (test_images, test_labels) = mnist.load_data()\n"
      ],
      "metadata": {
        "id": "S-tVYhz9oJjn",
        "colab": {
          "base_uri": "https://localhost:8080/"
        },
        "outputId": "9b6f1f7b-7b9f-4568-c837-66a07ec67498"
      },
      "execution_count": 4,
      "outputs": [
        {
          "output_type": "stream",
          "name": "stdout",
          "text": [
            "Downloading data from https://storage.googleapis.com/tensorflow/tf-keras-datasets/mnist.npz\n",
            "11490434/11490434 [==============================] - 0s 0us/step\n"
          ]
        }
      ]
    },
    {
      "cell_type": "markdown",
      "source": [
        "Training"
      ],
      "metadata": {
        "id": "M9uit3iif7Ct"
      }
    },
    {
      "cell_type": "code",
      "source": [
        "train_images.shape\n",
        "len(train_labels)\n",
        "train_labels\n",
        "test_images.shape\n",
        "len(test_labels)\n",
        "test_labels\n"
      ],
      "metadata": {
        "id": "W5lXpBuzoTwx",
        "colab": {
          "base_uri": "https://localhost:8080/"
        },
        "outputId": "ba257bf3-aa8d-4fba-c7b4-e9b3fdfe115f"
      },
      "execution_count": 5,
      "outputs": [
        {
          "output_type": "execute_result",
          "data": {
            "text/plain": [
              "array([7, 2, 1, ..., 4, 5, 6], dtype=uint8)"
            ]
          },
          "metadata": {},
          "execution_count": 5
        }
      ]
    },
    {
      "cell_type": "markdown",
      "source": [
        "The network architecture"
      ],
      "metadata": {
        "id": "lY9QnJc8oW98"
      }
    },
    {
      "cell_type": "code",
      "source": [
        "from keras import models\n",
        "from keras import layers\n",
        "network = models.Sequential()\n",
        "# Dense(32) is a fully-connected layer with 32 hidden units.\n",
        "# in the first layer, you must specify the expected input data shape :\n",
        "# here, 28 X 28=784 -dimensional vectors.\n",
        "network.add(layers.Dense(32, activation='sigmoid', input_shape=(28 * 28, )))\n",
        "network.add(layers.Dense(8, activation='sigmoid'))\n",
        "network.add(layers.Dense(10, activation='softmax'))\n",
        "network.summary()\n",
        "from google.colab import drive\n",
        "drive.mount('/content/drive')\n"
      ],
      "metadata": {
        "colab": {
          "base_uri": "https://localhost:8080/"
        },
        "id": "bDQ0ElvPoZH6",
        "outputId": "aab9cc22-9686-48b6-f010-8c2dc8c0c5c4"
      },
      "execution_count": 6,
      "outputs": [
        {
          "output_type": "stream",
          "name": "stdout",
          "text": [
            "Model: \"sequential\"\n",
            "_________________________________________________________________\n",
            " Layer (type)                Output Shape              Param #   \n",
            "=================================================================\n",
            " dense (Dense)               (None, 32)                25120     \n",
            "                                                                 \n",
            " dense_1 (Dense)             (None, 8)                 264       \n",
            "                                                                 \n",
            " dense_2 (Dense)             (None, 10)                90        \n",
            "                                                                 \n",
            "=================================================================\n",
            "Total params: 25474 (99.51 KB)\n",
            "Trainable params: 25474 (99.51 KB)\n",
            "Non-trainable params: 0 (0.00 Byte)\n",
            "_________________________________________________________________\n",
            "Mounted at /content/drive\n"
          ]
        }
      ]
    },
    {
      "cell_type": "markdown",
      "source": [
        "The compilation step"
      ],
      "metadata": {
        "id": "U7I7xhQjoeWH"
      }
    },
    {
      "cell_type": "code",
      "source": [
        "network.compile(optimizer='sgd',\n",
        "                loss='categorical_crossentropy',\n",
        "                metrics=['accuracy'])"
      ],
      "metadata": {
        "id": "_AkirVt0oe6B"
      },
      "execution_count": 7,
      "outputs": []
    },
    {
      "cell_type": "markdown",
      "source": [
        "Preparing the image data"
      ],
      "metadata": {
        "id": "Frz-vGxWogvz"
      }
    },
    {
      "cell_type": "code",
      "source": [
        "train_images = train_images.reshape((60000, 28 * 28))\n",
        "train_images = train_images.astype('float32') / 255.\n",
        "test_images = test_images.reshape((10000, 28 * 28))\n",
        "test_images = test_images.astype('float32') / 255."
      ],
      "metadata": {
        "id": "0LwIHz42oi7A"
      },
      "execution_count": 8,
      "outputs": []
    },
    {
      "cell_type": "markdown",
      "source": [
        "Preparing the labels"
      ],
      "metadata": {
        "id": "xa8dldHFonMc"
      }
    },
    {
      "cell_type": "code",
      "source": [
        "from keras.utils import to_categorical\n",
        "train_labels = to_categorical(train_labels)\n",
        "train_labels\n",
        "test_labels = to_categorical(test_labels)\n",
        "test_labels\n"
      ],
      "metadata": {
        "colab": {
          "base_uri": "https://localhost:8080/"
        },
        "id": "C7cSamqnoprH",
        "outputId": "26dd5efb-9f49-4a8a-f891-a38d613dd064"
      },
      "execution_count": 9,
      "outputs": [
        {
          "output_type": "execute_result",
          "data": {
            "text/plain": [
              "array([[0., 0., 0., ..., 1., 0., 0.],\n",
              "       [0., 0., 1., ..., 0., 0., 0.],\n",
              "       [0., 1., 0., ..., 0., 0., 0.],\n",
              "       ...,\n",
              "       [0., 0., 0., ..., 0., 0., 0.],\n",
              "       [0., 0., 0., ..., 0., 0., 0.],\n",
              "       [0., 0., 0., ..., 0., 0., 0.]], dtype=float32)"
            ]
          },
          "metadata": {},
          "execution_count": 9
        }
      ]
    },
    {
      "cell_type": "markdown",
      "source": [
        "Training and Testing"
      ],
      "metadata": {
        "id": "MdyP_vQyossQ"
      }
    },
    {
      "cell_type": "code",
      "source": [
        "network.fit(train_images, train_labels, epochs=160, batch_size=512)"
      ],
      "metadata": {
        "colab": {
          "base_uri": "https://localhost:8080/"
        },
        "id": "xyUWJqXrouuJ",
        "outputId": "339c14a9-daec-4592-d253-c990e8361091"
      },
      "execution_count": 10,
      "outputs": [
        {
          "output_type": "stream",
          "name": "stdout",
          "text": [
            "Epoch 1/160\n",
            "118/118 [==============================] - 1s 5ms/step - loss: 2.3816 - accuracy: 0.1044\n",
            "Epoch 2/160\n",
            "118/118 [==============================] - 1s 5ms/step - loss: 2.3249 - accuracy: 0.1044\n",
            "Epoch 3/160\n",
            "118/118 [==============================] - 1s 5ms/step - loss: 2.3003 - accuracy: 0.1044\n",
            "Epoch 4/160\n",
            "118/118 [==============================] - 1s 4ms/step - loss: 2.2867 - accuracy: 0.1044\n",
            "Epoch 5/160\n",
            "118/118 [==============================] - 1s 5ms/step - loss: 2.2772 - accuracy: 0.1185\n",
            "Epoch 6/160\n",
            "118/118 [==============================] - 1s 4ms/step - loss: 2.2693 - accuracy: 0.1998\n",
            "Epoch 7/160\n",
            "118/118 [==============================] - 0s 4ms/step - loss: 2.2619 - accuracy: 0.2380\n",
            "Epoch 8/160\n",
            "118/118 [==============================] - 1s 4ms/step - loss: 2.2546 - accuracy: 0.2483\n",
            "Epoch 9/160\n",
            "118/118 [==============================] - 1s 4ms/step - loss: 2.2470 - accuracy: 0.2519\n",
            "Epoch 10/160\n",
            "118/118 [==============================] - 1s 4ms/step - loss: 2.2390 - accuracy: 0.2555\n",
            "Epoch 11/160\n",
            "118/118 [==============================] - 0s 4ms/step - loss: 2.2305 - accuracy: 0.2556\n",
            "Epoch 12/160\n",
            "118/118 [==============================] - 0s 4ms/step - loss: 2.2214 - accuracy: 0.2564\n",
            "Epoch 13/160\n",
            "118/118 [==============================] - 1s 4ms/step - loss: 2.2117 - accuracy: 0.2601\n",
            "Epoch 14/160\n",
            "118/118 [==============================] - 1s 4ms/step - loss: 2.2013 - accuracy: 0.2635\n",
            "Epoch 15/160\n",
            "118/118 [==============================] - 1s 5ms/step - loss: 2.1903 - accuracy: 0.2707\n",
            "Epoch 16/160\n",
            "118/118 [==============================] - 1s 4ms/step - loss: 2.1785 - accuracy: 0.2758\n",
            "Epoch 17/160\n",
            "118/118 [==============================] - 1s 5ms/step - loss: 2.1661 - accuracy: 0.2843\n",
            "Epoch 18/160\n",
            "118/118 [==============================] - 1s 7ms/step - loss: 2.1530 - accuracy: 0.2896\n",
            "Epoch 19/160\n",
            "118/118 [==============================] - 1s 7ms/step - loss: 2.1393 - accuracy: 0.2987\n",
            "Epoch 20/160\n",
            "118/118 [==============================] - 1s 6ms/step - loss: 2.1250 - accuracy: 0.3043\n",
            "Epoch 21/160\n",
            "118/118 [==============================] - 1s 6ms/step - loss: 2.1101 - accuracy: 0.3128\n",
            "Epoch 22/160\n",
            "118/118 [==============================] - 1s 7ms/step - loss: 2.0946 - accuracy: 0.3224\n",
            "Epoch 23/160\n",
            "118/118 [==============================] - 1s 7ms/step - loss: 2.0786 - accuracy: 0.3329\n",
            "Epoch 24/160\n",
            "118/118 [==============================] - 1s 6ms/step - loss: 2.0623 - accuracy: 0.3444\n",
            "Epoch 25/160\n",
            "118/118 [==============================] - 0s 4ms/step - loss: 2.0455 - accuracy: 0.3542\n",
            "Epoch 26/160\n",
            "118/118 [==============================] - 0s 4ms/step - loss: 2.0283 - accuracy: 0.3639\n",
            "Epoch 27/160\n",
            "118/118 [==============================] - 0s 4ms/step - loss: 2.0108 - accuracy: 0.3723\n",
            "Epoch 28/160\n",
            "118/118 [==============================] - 1s 4ms/step - loss: 1.9930 - accuracy: 0.3826\n",
            "Epoch 29/160\n",
            "118/118 [==============================] - 1s 4ms/step - loss: 1.9750 - accuracy: 0.3922\n",
            "Epoch 30/160\n",
            "118/118 [==============================] - 0s 4ms/step - loss: 1.9566 - accuracy: 0.4002\n",
            "Epoch 31/160\n",
            "118/118 [==============================] - 0s 4ms/step - loss: 1.9380 - accuracy: 0.4089\n",
            "Epoch 32/160\n",
            "118/118 [==============================] - 1s 4ms/step - loss: 1.9192 - accuracy: 0.4167\n",
            "Epoch 33/160\n",
            "118/118 [==============================] - 0s 4ms/step - loss: 1.9002 - accuracy: 0.4234\n",
            "Epoch 34/160\n",
            "118/118 [==============================] - 1s 4ms/step - loss: 1.8811 - accuracy: 0.4285\n",
            "Epoch 35/160\n",
            "118/118 [==============================] - 1s 4ms/step - loss: 1.8617 - accuracy: 0.4356\n",
            "Epoch 36/160\n",
            "118/118 [==============================] - 1s 5ms/step - loss: 1.8423 - accuracy: 0.4406\n",
            "Epoch 37/160\n",
            "118/118 [==============================] - 1s 5ms/step - loss: 1.8227 - accuracy: 0.4453\n",
            "Epoch 38/160\n",
            "118/118 [==============================] - 1s 4ms/step - loss: 1.8031 - accuracy: 0.4511\n",
            "Epoch 39/160\n",
            "118/118 [==============================] - 1s 4ms/step - loss: 1.7834 - accuracy: 0.4571\n",
            "Epoch 40/160\n",
            "118/118 [==============================] - 0s 4ms/step - loss: 1.7639 - accuracy: 0.4619\n",
            "Epoch 41/160\n",
            "118/118 [==============================] - 1s 4ms/step - loss: 1.7443 - accuracy: 0.4666\n",
            "Epoch 42/160\n",
            "118/118 [==============================] - 1s 4ms/step - loss: 1.7250 - accuracy: 0.4730\n",
            "Epoch 43/160\n",
            "118/118 [==============================] - 1s 4ms/step - loss: 1.7058 - accuracy: 0.4768\n",
            "Epoch 44/160\n",
            "118/118 [==============================] - 1s 6ms/step - loss: 1.6868 - accuracy: 0.4836\n",
            "Epoch 45/160\n",
            "118/118 [==============================] - 1s 7ms/step - loss: 1.6680 - accuracy: 0.4885\n",
            "Epoch 46/160\n",
            "118/118 [==============================] - 1s 7ms/step - loss: 1.6496 - accuracy: 0.4942\n",
            "Epoch 47/160\n",
            "118/118 [==============================] - 1s 7ms/step - loss: 1.6314 - accuracy: 0.5006\n",
            "Epoch 48/160\n",
            "118/118 [==============================] - 1s 7ms/step - loss: 1.6135 - accuracy: 0.5053\n",
            "Epoch 49/160\n",
            "118/118 [==============================] - 1s 6ms/step - loss: 1.5960 - accuracy: 0.5120\n",
            "Epoch 50/160\n",
            "118/118 [==============================] - 1s 5ms/step - loss: 1.5788 - accuracy: 0.5180\n",
            "Epoch 51/160\n",
            "118/118 [==============================] - 1s 4ms/step - loss: 1.5619 - accuracy: 0.5245\n",
            "Epoch 52/160\n",
            "118/118 [==============================] - 1s 4ms/step - loss: 1.5453 - accuracy: 0.5307\n",
            "Epoch 53/160\n",
            "118/118 [==============================] - 1s 4ms/step - loss: 1.5290 - accuracy: 0.5364\n",
            "Epoch 54/160\n",
            "118/118 [==============================] - 1s 4ms/step - loss: 1.5131 - accuracy: 0.5436\n",
            "Epoch 55/160\n",
            "118/118 [==============================] - 1s 4ms/step - loss: 1.4975 - accuracy: 0.5498\n",
            "Epoch 56/160\n",
            "118/118 [==============================] - 1s 5ms/step - loss: 1.4821 - accuracy: 0.5561\n",
            "Epoch 57/160\n",
            "118/118 [==============================] - 1s 5ms/step - loss: 1.4670 - accuracy: 0.5611\n",
            "Epoch 58/160\n",
            "118/118 [==============================] - 1s 4ms/step - loss: 1.4522 - accuracy: 0.5677\n",
            "Epoch 59/160\n",
            "118/118 [==============================] - 0s 4ms/step - loss: 1.4377 - accuracy: 0.5746\n",
            "Epoch 60/160\n",
            "118/118 [==============================] - 1s 4ms/step - loss: 1.4233 - accuracy: 0.5808\n",
            "Epoch 61/160\n",
            "118/118 [==============================] - 1s 4ms/step - loss: 1.4092 - accuracy: 0.5867\n",
            "Epoch 62/160\n",
            "118/118 [==============================] - 1s 4ms/step - loss: 1.3954 - accuracy: 0.5926\n",
            "Epoch 63/160\n",
            "118/118 [==============================] - 0s 4ms/step - loss: 1.3817 - accuracy: 0.5978\n",
            "Epoch 64/160\n",
            "118/118 [==============================] - 0s 4ms/step - loss: 1.3683 - accuracy: 0.6031\n",
            "Epoch 65/160\n",
            "118/118 [==============================] - 1s 4ms/step - loss: 1.3550 - accuracy: 0.6083\n",
            "Epoch 66/160\n",
            "118/118 [==============================] - 1s 4ms/step - loss: 1.3419 - accuracy: 0.6138\n",
            "Epoch 67/160\n",
            "118/118 [==============================] - 1s 5ms/step - loss: 1.3290 - accuracy: 0.6181\n",
            "Epoch 68/160\n",
            "118/118 [==============================] - 1s 5ms/step - loss: 1.3163 - accuracy: 0.6232\n",
            "Epoch 69/160\n",
            "118/118 [==============================] - 1s 7ms/step - loss: 1.3037 - accuracy: 0.6278\n",
            "Epoch 70/160\n",
            "118/118 [==============================] - 1s 7ms/step - loss: 1.2914 - accuracy: 0.6314\n",
            "Epoch 71/160\n",
            "118/118 [==============================] - 1s 7ms/step - loss: 1.2792 - accuracy: 0.6349\n",
            "Epoch 72/160\n",
            "118/118 [==============================] - 1s 7ms/step - loss: 1.2671 - accuracy: 0.6377\n",
            "Epoch 73/160\n",
            "118/118 [==============================] - 1s 7ms/step - loss: 1.2553 - accuracy: 0.6414\n",
            "Epoch 74/160\n",
            "118/118 [==============================] - 1s 6ms/step - loss: 1.2436 - accuracy: 0.6439\n",
            "Epoch 75/160\n",
            "118/118 [==============================] - 1s 4ms/step - loss: 1.2321 - accuracy: 0.6473\n",
            "Epoch 76/160\n",
            "118/118 [==============================] - 0s 4ms/step - loss: 1.2208 - accuracy: 0.6505\n",
            "Epoch 77/160\n",
            "118/118 [==============================] - 0s 4ms/step - loss: 1.2096 - accuracy: 0.6536\n",
            "Epoch 78/160\n",
            "118/118 [==============================] - 0s 4ms/step - loss: 1.1986 - accuracy: 0.6546\n",
            "Epoch 79/160\n",
            "118/118 [==============================] - 1s 4ms/step - loss: 1.1879 - accuracy: 0.6572\n",
            "Epoch 80/160\n",
            "118/118 [==============================] - 0s 4ms/step - loss: 1.1773 - accuracy: 0.6601\n",
            "Epoch 81/160\n",
            "118/118 [==============================] - 1s 4ms/step - loss: 1.1668 - accuracy: 0.6618\n",
            "Epoch 82/160\n",
            "118/118 [==============================] - 0s 4ms/step - loss: 1.1566 - accuracy: 0.6646\n",
            "Epoch 83/160\n",
            "118/118 [==============================] - 1s 4ms/step - loss: 1.1465 - accuracy: 0.6668\n",
            "Epoch 84/160\n",
            "118/118 [==============================] - 0s 4ms/step - loss: 1.1366 - accuracy: 0.6676\n",
            "Epoch 85/160\n",
            "118/118 [==============================] - 1s 4ms/step - loss: 1.1269 - accuracy: 0.6691\n",
            "Epoch 86/160\n",
            "118/118 [==============================] - 1s 4ms/step - loss: 1.1174 - accuracy: 0.6717\n",
            "Epoch 87/160\n",
            "118/118 [==============================] - 1s 5ms/step - loss: 1.1080 - accuracy: 0.6730\n",
            "Epoch 88/160\n",
            "118/118 [==============================] - 1s 4ms/step - loss: 1.0989 - accuracy: 0.6747\n",
            "Epoch 89/160\n",
            "118/118 [==============================] - 1s 5ms/step - loss: 1.0899 - accuracy: 0.6764\n",
            "Epoch 90/160\n",
            "118/118 [==============================] - 1s 4ms/step - loss: 1.0811 - accuracy: 0.6782\n",
            "Epoch 91/160\n",
            "118/118 [==============================] - 1s 5ms/step - loss: 1.0724 - accuracy: 0.6805\n",
            "Epoch 92/160\n",
            "118/118 [==============================] - 1s 4ms/step - loss: 1.0639 - accuracy: 0.6810\n",
            "Epoch 93/160\n",
            "118/118 [==============================] - 1s 5ms/step - loss: 1.0556 - accuracy: 0.6839\n",
            "Epoch 94/160\n",
            "118/118 [==============================] - 1s 7ms/step - loss: 1.0474 - accuracy: 0.6851\n",
            "Epoch 95/160\n",
            "118/118 [==============================] - 1s 7ms/step - loss: 1.0395 - accuracy: 0.6863\n",
            "Epoch 96/160\n",
            "118/118 [==============================] - 1s 7ms/step - loss: 1.0316 - accuracy: 0.6875\n",
            "Epoch 97/160\n",
            "118/118 [==============================] - 1s 7ms/step - loss: 1.0239 - accuracy: 0.6901\n",
            "Epoch 98/160\n",
            "118/118 [==============================] - 1s 7ms/step - loss: 1.0164 - accuracy: 0.6911\n",
            "Epoch 99/160\n",
            "118/118 [==============================] - 1s 5ms/step - loss: 1.0090 - accuracy: 0.6947\n",
            "Epoch 100/160\n",
            "118/118 [==============================] - 1s 5ms/step - loss: 1.0018 - accuracy: 0.6956\n",
            "Epoch 101/160\n",
            "118/118 [==============================] - 1s 4ms/step - loss: 0.9946 - accuracy: 0.6973\n",
            "Epoch 102/160\n",
            "118/118 [==============================] - 1s 4ms/step - loss: 0.9877 - accuracy: 0.6986\n",
            "Epoch 103/160\n",
            "118/118 [==============================] - 1s 4ms/step - loss: 0.9808 - accuracy: 0.6993\n",
            "Epoch 104/160\n",
            "118/118 [==============================] - 1s 4ms/step - loss: 0.9741 - accuracy: 0.7020\n",
            "Epoch 105/160\n",
            "118/118 [==============================] - 1s 5ms/step - loss: 0.9675 - accuracy: 0.7046\n",
            "Epoch 106/160\n",
            "118/118 [==============================] - 1s 5ms/step - loss: 0.9610 - accuracy: 0.7053\n",
            "Epoch 107/160\n",
            "118/118 [==============================] - 1s 5ms/step - loss: 0.9547 - accuracy: 0.7066\n",
            "Epoch 108/160\n",
            "118/118 [==============================] - 1s 4ms/step - loss: 0.9484 - accuracy: 0.7093\n",
            "Epoch 109/160\n",
            "118/118 [==============================] - 1s 4ms/step - loss: 0.9423 - accuracy: 0.7118\n",
            "Epoch 110/160\n",
            "118/118 [==============================] - 1s 4ms/step - loss: 0.9362 - accuracy: 0.7120\n",
            "Epoch 111/160\n",
            "118/118 [==============================] - 1s 5ms/step - loss: 0.9303 - accuracy: 0.7151\n",
            "Epoch 112/160\n",
            "118/118 [==============================] - 1s 4ms/step - loss: 0.9245 - accuracy: 0.7162\n",
            "Epoch 113/160\n",
            "118/118 [==============================] - 1s 5ms/step - loss: 0.9188 - accuracy: 0.7179\n",
            "Epoch 114/160\n",
            "118/118 [==============================] - 1s 5ms/step - loss: 0.9132 - accuracy: 0.7206\n",
            "Epoch 115/160\n",
            "118/118 [==============================] - 1s 5ms/step - loss: 0.9077 - accuracy: 0.7229\n",
            "Epoch 116/160\n",
            "118/118 [==============================] - 1s 4ms/step - loss: 0.9022 - accuracy: 0.7249\n",
            "Epoch 117/160\n",
            "118/118 [==============================] - 1s 5ms/step - loss: 0.8969 - accuracy: 0.7272\n",
            "Epoch 118/160\n",
            "118/118 [==============================] - 1s 7ms/step - loss: 0.8916 - accuracy: 0.7292\n",
            "Epoch 119/160\n",
            "118/118 [==============================] - 1s 7ms/step - loss: 0.8864 - accuracy: 0.7303\n",
            "Epoch 120/160\n",
            "118/118 [==============================] - 1s 7ms/step - loss: 0.8814 - accuracy: 0.7324\n",
            "Epoch 121/160\n",
            "118/118 [==============================] - 1s 7ms/step - loss: 0.8763 - accuracy: 0.7340\n",
            "Epoch 122/160\n",
            "118/118 [==============================] - 1s 7ms/step - loss: 0.8714 - accuracy: 0.7357\n",
            "Epoch 123/160\n",
            "118/118 [==============================] - 1s 6ms/step - loss: 0.8665 - accuracy: 0.7374\n",
            "Epoch 124/160\n",
            "118/118 [==============================] - 1s 4ms/step - loss: 0.8617 - accuracy: 0.7383\n",
            "Epoch 125/160\n",
            "118/118 [==============================] - 1s 4ms/step - loss: 0.8570 - accuracy: 0.7410\n",
            "Epoch 126/160\n",
            "118/118 [==============================] - 1s 5ms/step - loss: 0.8524 - accuracy: 0.7432\n",
            "Epoch 127/160\n",
            "118/118 [==============================] - 1s 4ms/step - loss: 0.8478 - accuracy: 0.7452\n",
            "Epoch 128/160\n",
            "118/118 [==============================] - 1s 5ms/step - loss: 0.8433 - accuracy: 0.7473\n",
            "Epoch 129/160\n",
            "118/118 [==============================] - 1s 4ms/step - loss: 0.8388 - accuracy: 0.7495\n",
            "Epoch 130/160\n",
            "118/118 [==============================] - 1s 4ms/step - loss: 0.8344 - accuracy: 0.7506\n",
            "Epoch 131/160\n",
            "118/118 [==============================] - 1s 4ms/step - loss: 0.8301 - accuracy: 0.7518\n",
            "Epoch 132/160\n",
            "118/118 [==============================] - 1s 4ms/step - loss: 0.8258 - accuracy: 0.7545\n",
            "Epoch 133/160\n",
            "118/118 [==============================] - 1s 4ms/step - loss: 0.8215 - accuracy: 0.7570\n",
            "Epoch 134/160\n",
            "118/118 [==============================] - 1s 4ms/step - loss: 0.8174 - accuracy: 0.7588\n",
            "Epoch 135/160\n",
            "118/118 [==============================] - 1s 4ms/step - loss: 0.8132 - accuracy: 0.7596\n",
            "Epoch 136/160\n",
            "118/118 [==============================] - 1s 5ms/step - loss: 0.8091 - accuracy: 0.7628\n",
            "Epoch 137/160\n",
            "118/118 [==============================] - 1s 5ms/step - loss: 0.8051 - accuracy: 0.7638\n",
            "Epoch 138/160\n",
            "118/118 [==============================] - 0s 4ms/step - loss: 0.8011 - accuracy: 0.7652\n",
            "Epoch 139/160\n",
            "118/118 [==============================] - 1s 4ms/step - loss: 0.7972 - accuracy: 0.7672\n",
            "Epoch 140/160\n",
            "118/118 [==============================] - 1s 4ms/step - loss: 0.7933 - accuracy: 0.7690\n",
            "Epoch 141/160\n",
            "118/118 [==============================] - 1s 5ms/step - loss: 0.7894 - accuracy: 0.7707\n",
            "Epoch 142/160\n",
            "118/118 [==============================] - 1s 5ms/step - loss: 0.7856 - accuracy: 0.7726\n",
            "Epoch 143/160\n",
            "118/118 [==============================] - 1s 7ms/step - loss: 0.7818 - accuracy: 0.7740\n",
            "Epoch 144/160\n",
            "118/118 [==============================] - 1s 7ms/step - loss: 0.7781 - accuracy: 0.7759\n",
            "Epoch 145/160\n",
            "118/118 [==============================] - 1s 6ms/step - loss: 0.7744 - accuracy: 0.7770\n",
            "Epoch 146/160\n",
            "118/118 [==============================] - 1s 7ms/step - loss: 0.7707 - accuracy: 0.7788\n",
            "Epoch 147/160\n",
            "118/118 [==============================] - 1s 7ms/step - loss: 0.7671 - accuracy: 0.7807\n",
            "Epoch 148/160\n",
            "118/118 [==============================] - 1s 6ms/step - loss: 0.7635 - accuracy: 0.7820\n",
            "Epoch 149/160\n",
            "118/118 [==============================] - 1s 4ms/step - loss: 0.7599 - accuracy: 0.7840\n",
            "Epoch 150/160\n",
            "118/118 [==============================] - 1s 4ms/step - loss: 0.7564 - accuracy: 0.7858\n",
            "Epoch 151/160\n",
            "118/118 [==============================] - 1s 5ms/step - loss: 0.7529 - accuracy: 0.7871\n",
            "Epoch 152/160\n",
            "118/118 [==============================] - 1s 4ms/step - loss: 0.7494 - accuracy: 0.7883\n",
            "Epoch 153/160\n",
            "118/118 [==============================] - 0s 4ms/step - loss: 0.7460 - accuracy: 0.7901\n",
            "Epoch 154/160\n",
            "118/118 [==============================] - 1s 4ms/step - loss: 0.7425 - accuracy: 0.7920\n",
            "Epoch 155/160\n",
            "118/118 [==============================] - 1s 4ms/step - loss: 0.7391 - accuracy: 0.7929\n",
            "Epoch 156/160\n",
            "118/118 [==============================] - 1s 4ms/step - loss: 0.7358 - accuracy: 0.7935\n",
            "Epoch 157/160\n",
            "118/118 [==============================] - 1s 4ms/step - loss: 0.7324 - accuracy: 0.7956\n",
            "Epoch 158/160\n",
            "118/118 [==============================] - 1s 5ms/step - loss: 0.7291 - accuracy: 0.7976\n",
            "Epoch 159/160\n",
            "118/118 [==============================] - 0s 4ms/step - loss: 0.7258 - accuracy: 0.7987\n",
            "Epoch 160/160\n",
            "118/118 [==============================] - 1s 4ms/step - loss: 0.7225 - accuracy: 0.7998\n"
          ]
        },
        {
          "output_type": "execute_result",
          "data": {
            "text/plain": [
              "<keras.src.callbacks.History at 0x7eb291007a60>"
            ]
          },
          "metadata": {},
          "execution_count": 10
        }
      ]
    },
    {
      "cell_type": "code",
      "source": [
        "test_loss, test_acc = network.evaluate(test_images, test_labels)\n",
        "print('Test Accuracy: {:.5f} '.format(test_acc))\n",
        "test_acc"
      ],
      "metadata": {
        "colab": {
          "base_uri": "https://localhost:8080/"
        },
        "id": "lxgwEbxmozey",
        "outputId": "e1f8ee22-04d9-4951-c0c7-34347bdfdcd4"
      },
      "execution_count": 11,
      "outputs": [
        {
          "output_type": "stream",
          "name": "stdout",
          "text": [
            "313/313 [==============================] - 1s 2ms/step - loss: 0.7159 - accuracy: 0.8040\n",
            "Test Accuracy: 0.80400 \n"
          ]
        },
        {
          "output_type": "execute_result",
          "data": {
            "text/plain": [
              "0.8040000200271606"
            ]
          },
          "metadata": {},
          "execution_count": 11
        }
      ]
    },
    {
      "cell_type": "code",
      "source": [
        "from keras.utils import plot_model\n",
        "plot_model(network, to_file='model.png')\n",
        "import matplotlib.pyplot as plt\n",
        "history =network.fit(train_images, train_labels, validation_split=0.33,epochs=5, batch_size=512)\n",
        "history_dict = history.history\n",
        "print(history_dict.keys())\n",
        "plt.plot(history.history['accuracy'])\n",
        "plt.plot(history.history['val_accuracy'])\n",
        "plt.title('Model accuracy')\n",
        "plt.ylabel('Accuracy')\n",
        "plt.xlabel('Epoch')\n",
        "plt.legend(['Train', 'Test'], loc='upper left')\n",
        "plt.show()\n",
        "\n",
        "\n",
        "# Plot training & validation loss values\n",
        "plt.plot(history.history['loss'])\n",
        "plt.plot(history.history['val_loss'])\n",
        "plt.title('Model loss')\n",
        "plt.ylabel('Loss')\n",
        "plt.xlabel('Epoch')\n",
        "plt.legend(['Train', 'Test'], loc='upper left')\n",
        "plt.show()\n"
      ],
      "metadata": {
        "colab": {
          "base_uri": "https://localhost:8080/",
          "height": 1000
        },
        "id": "3vpftWmpo195",
        "outputId": "83f97dbc-1a67-4da4-9aec-06207336bc1e"
      },
      "execution_count": 12,
      "outputs": [
        {
          "output_type": "stream",
          "name": "stdout",
          "text": [
            "Epoch 1/5\n",
            "79/79 [==============================] - 1s 8ms/step - loss: 0.7270 - accuracy: 0.7989 - val_loss: 0.7040 - val_accuracy: 0.8084\n",
            "Epoch 2/5\n",
            "79/79 [==============================] - 1s 6ms/step - loss: 0.7248 - accuracy: 0.8001 - val_loss: 0.7019 - val_accuracy: 0.8092\n",
            "Epoch 3/5\n",
            "79/79 [==============================] - 0s 6ms/step - loss: 0.7226 - accuracy: 0.8012 - val_loss: 0.6999 - val_accuracy: 0.8104\n",
            "Epoch 4/5\n",
            "79/79 [==============================] - 0s 6ms/step - loss: 0.7204 - accuracy: 0.8022 - val_loss: 0.6978 - val_accuracy: 0.8113\n",
            "Epoch 5/5\n",
            "79/79 [==============================] - 1s 6ms/step - loss: 0.7183 - accuracy: 0.8033 - val_loss: 0.6958 - val_accuracy: 0.8122\n",
            "dict_keys(['loss', 'accuracy', 'val_loss', 'val_accuracy'])\n"
          ]
        },
        {
          "output_type": "display_data",
          "data": {
            "text/plain": [
              "<Figure size 640x480 with 1 Axes>"
            ],
            "image/png": "[encoded data removed]"
          },
          "metadata": {}
        },
        {
          "output_type": "display_data",
          "data": {
            "text/plain": [
              "<Figure size 640x480 with 1 Axes>"
            ],
            "image/png": "[encoded data removed]"
          },
          "metadata": {}
        }
      ]
    }
  ]
}